{
 "cells": [
  {
   "cell_type": "code",
   "execution_count": 1,
   "metadata": {
    "collapsed": true
   },
   "outputs": [],
   "source": [
    "import os\n",
    "import re\n",
    "import itertools\n",
    "import requests\n",
    "from bs4 import BeautifulSoup as Soup"
   ]
  },
  {
   "cell_type": "code",
   "execution_count": 2,
   "metadata": {
    "collapsed": true
   },
   "outputs": [],
   "source": [
    "base = 'http://testi.ru'\n",
    "index = base"
   ]
  },
  {
   "cell_type": "code",
   "execution_count": 3,
   "metadata": {
    "collapsed": true
   },
   "outputs": [],
   "source": [
    "def make_soup(url):\n",
    "    return Soup( requests.get(index).text, 'lxml' )"
   ]
  },
  {
   "cell_type": "code",
   "execution_count": 4,
   "metadata": {
    "collapsed": true
   },
   "outputs": [],
   "source": [
    "index_soup = make_soup(index)"
   ]
  },
  {
   "cell_type": "code",
   "execution_count": 5,
   "metadata": {
    "collapsed": true
   },
   "outputs": [],
   "source": [
    "href = '/rubr9.htm'"
   ]
  },
  {
   "cell_type": "code",
   "execution_count": 6,
   "metadata": {
    "scrolled": true
   },
   "outputs": [
    {
     "data": {
      "text/plain": [
       "-1"
      ]
     },
     "execution_count": 6,
     "metadata": {},
     "output_type": "execute_result"
    }
   ],
   "source": [
    "href.find('rubrd')"
   ]
  },
  {
   "cell_type": "code",
   "execution_count": 7,
   "metadata": {
    "collapsed": true
   },
   "outputs": [],
   "source": [
    "def get_hrefs(soup):\n",
    "    all_a = soup.find_all('a')\n",
    "    return list({a.get('href') for a in all_a})"
   ]
  },
  {
   "cell_type": "code",
   "execution_count": 8,
   "metadata": {},
   "outputs": [],
   "source": [
    "links_to_rubr = list( filter(lambda href: href.find('rubr') > 0, \n",
    "                             get_hrefs(index_soup)) )"
   ]
  },
  {
   "cell_type": "code",
   "execution_count": 9,
   "metadata": {
    "scrolled": false
   },
   "outputs": [],
   "source": [
    "links_to_tests = list(filter(lambda href: href.find('/test') == 0, \n",
    "                             {href for r in links_to_rubr for href in get_hrefs( make_soup(base + r) )}))"
   ]
  },
  {
   "cell_type": "code",
   "execution_count": 10,
   "metadata": {
    "collapsed": true
   },
   "outputs": [],
   "source": [
    "t = links_to_tests[0]\n",
    "\n",
    "test_url = 'http://testi.ru/p/test0.php?tid={}&vid=1&all=7&scr=0&rid=1'.format( re.sub('\\D{1,3}', '', t) )\n",
    "test_soup = make_soup(test_url)"
   ]
  },
  {
   "cell_type": "code",
   "execution_count": 71,
   "metadata": {},
   "outputs": [],
   "source": [
    "# test_soup.find_all('span')"
   ]
  },
  {
   "cell_type": "code",
   "execution_count": 11,
   "metadata": {},
   "outputs": [
    {
     "data": {
      "text/plain": [
       "<!DOCTYPE html PUBLIC \"-//W3C//DTD XHTML 1.0 Transitional//EN\" \"http://www.w3.org/TR/xhtml1/DTD/xhtml1-transitional.dtd\">\n",
       "<html lang=\"ru\" xml:lang=\"ru\" xmlns=\"http://www.w3.org/1999/xhtml\">\n",
       "<head><title>�����</title><link href=\"/style.css\" rel=\"stylesheet\" type=\"text/css\"/>\n",
       "<link href=\"/favicon.ico\" rel=\"shortcut icon\"/>\n",
       "<link href=\"http://pozdravok.ru/\" rel=\"home\" title=\"�����\"/>\n",
       "<meta content=\"�����\" name=\"keywords\"/><meta content=\"�����\" name=\"description\"/>\n",
       "<meta content=\"text/html; charset=utf-8\" http-equiv=\"Content-Type\"/>\n",
       "<script language=\"JavaScript\">var loc = ''; function bn(userid, page, ad, vbn, x,y,razdel) {var rndnum = Math.round(Math.random() * 999111); document.write('<iframe src=\"http://ad'+ad+'.bannerbank.ru/bb.cgi?cmd=ad&hreftarget=_blank&pubid=' + userid + '&pg=' + page + '&vbn='+vbn+'&w='+x+'&h='+y+'&num=1&r=ssi&ssi=nofillers&r=ssi&nocache=' + rndnum + '&ref=' + escape(document.referrer) + '&loc=' + loc + '\" frameborder=0 vspace=0 hspace=0 width='+x+' height='+y+' marginwidth=0 marginheight=0 scrolling=no>');document.write('<a href=\"http://ad'+ad+'.bannerbank.ru/bb.cgi?cmd=go&pubid=' + userid + '&pg=' + page + '&vbn='+vbn+'&num=1&w='+x+'&h='+y+'&nocache=' + rndnum + '&loc=' + loc + '&ref=' + escape(document.referrer) + '\" target=\"_blank\">'); document.write('<img src=\"http://ad'+ad+'.bannerbank.ru/bb.cgi?cmd=ad&pubid=' + userid + '&pg=' + page + '&vbn='+vbn+'&num=1&w='+x+'&h='+y+'&nocache=' + rndnum + '&ref=' + escape(document.referrer) + '&loc=' + loc + '\" width='+x+' height='+y+' Alt=\"QLE.RU\" border=0></a></iframe>'+razdel);}</script>\n",
       "</head>\n",
       "<body>\n",
       "<div class=\"up\">\n",
       "<table border=\"0\" cellpadding=\"0\" cellspacing=\"0\" height=\"90px\" width=\"100%\"><tbody><tr><td valign=\"top\" width=\"244px\">\n",
       "<a href=\"/\"><img align=\"left\" alt=\"�����\" border=\"0\" height=\"90\" src=\"/pic/logo.png\" title=\"����� �� testi.ru\" width=\"200\"/></a>\n",
       "</td>\n",
       "<td valign=\"top\"><div class=\"bborder upad\"><div id=\"PC_Teaser_Block_43094\"></div></div></td>\n",
       "<td valign=\"top\" width=\"468\"><div class=\"bborder upad468\">\n",
       "<img border=\"0\" height=\"1\" src=\"http://counter.rambler.ru/top100.cnt?551557\" style=\"display:none\" width=\"1\"/>\n",
       "<script language=\"JavaScript\" type=\"text/javascript\">\n",
       "<!--\n",
       "var RndNum4NoCash = Math.round(Math.random() * 1000000000);\n",
       "var ar_Tail='unknown'; if (document.referrer) ar_Tail = escape(document.referrer);\n",
       "document.write('<iframe src=\"http://ad.adriver.ru/cgi-bin/erle.cgi'\n",
       "+ '?sid=174919&bn=0&target=blank&bt=1&pz=0&tail256=' + ar_Tail + '&rnd=' + RndNum4NoCash\n",
       "+ '\" frameborder=0 vspace=0 hspace=0 width=468 height=60'\n",
       "+ ' marginwidth=0 marginheight=0 scrolling=no></iframe>');\n",
       "// -->\n",
       "</script>\n",
       "</div></td>\n",
       "</tr></tbody></table>\n",
       "</div>\n",
       "<div class=\"title\"><h2><b>�����</b></h2></div>\n",
       "<div id=\"all\">\n",
       "<div id=\"main\"><div class=\"maind bborder greenb\"><h1>�����</h1><h4><a class=\"cl5\" href=\"/rubr1.htm\">��� �������</a> <sup style=\"color:#000\">12</sup></h4><ul class=\"list\"><li><a href=\"/test7.htm\">�������� �� ��� �������?</a></li><li><a href=\"/test11.htm\">��������� ���� � ������ ��� ����� �� ��������?</a></li><li><a href=\"/test296.htm\">����� �� �� �������</a></li><li><a href=\"/test1.htm\">����� �� ��� ������� ���� � �����?</a></li><li><a href=\"/test4.htm\">����� �� ��� ������� � ������?</a></li></ul><h4><a class=\"cl5\" href=\"/rubr2.htm\">����� ��� �������</a> <sup style=\"color:#000\">42</sup></h4><ul class=\"list\"><li><a href=\"/test229.htm\">��� � ��� ������?</a></li><li><a href=\"/test300.htm\">����� ������� ���� �����</a></li><li><a href=\"/test25.htm\">������ �� �� ����������?</a></li><li><a href=\"/test21.htm\">���� �������� ���������</a></li><li><a href=\"/test30.htm\">����� ���� ������ � �����?</a></li></ul><h4><a class=\"cl5\" href=\"/rubr3.htm\">����� ��� ������</a> <sup style=\"color:#000\">23</sup></h4><ul class=\"list\"><li><a href=\"/test301.htm\">���� �� ����������� ����������</a></li><li><a href=\"/test35.htm\">������� �� �� � �����������?</a></li><li><a href=\"/test158.htm\">������ �� �� ������?</a></li><li><a href=\"/test256.htm\">���� �� ������������� � �������</a></li><li><a href=\"/test265.htm\">���� ����� ������</a></li></ul><h4><a class=\"cl5\" href=\"/rubr4.htm\">������� �����</a> <sup style=\"color:#000\">39</sup></h4><ul class=\"list\"><li><a href=\"/test287.htm\">����� ��������� ��� ��������</a></li><li><a href=\"/test281.htm\">����� ��������� ��� ��������. ���� �� ���������.</a></li><li><a href=\"/test282.htm\">���� �� ����� ���������</a></li><li><a href=\"/test45.htm\">������� �� �� ������� ������</a></li><li><a href=\"/test100.htm\">��� ����� �������</a></li></ul><h4><a class=\"cl5\" href=\"/rubr5.htm\">��������</a> <sup style=\"color:#000\">100</sup></h4><ul class=\"list\"><li><a href=\"/test310.htm\">���� �� ��������������� �������</a></li><li><a href=\"/test286.htm\">���� �� �����������</a></li><li><a href=\"/test47.htm\">��� ������</a></li><li><a href=\"/test276.htm\">��� �� ��� � ������� ����� (�������� ����)?</a></li><li><a href=\"/test241.htm\">���� �� ���������</a></li></ul><h4><a class=\"cl5\" href=\"/rubr6.htm\">�����������</a> <sup style=\"color:#000\">24</sup></h4><ul class=\"list\"><li><a href=\"/test110.htm\">������ �� ��� ����? - ������� � ����</a></li><li><a href=\"/test295.htm\">���������� � �������� �����</a></li><li><a href=\"/test72.htm\">����� � ��� ���</a></li><li><a href=\"/test111.htm\">������� �� ��?</a></li><li><a href=\"/test106.htm\">�������� ���� ��� ����</a></li></ul><h4><a class=\"cl5\" href=\"/rubr7.htm\">��������</a> <sup style=\"color:#000\">13</sup></h4><ul class=\"list\"><li><a href=\"/test236.htm\">���� �� ������</a></li><li><a href=\"/test76.htm\">���� �����������</a></li><li><a href=\"/test79.htm\">��� ���� �����</a></li><li><a href=\"/test81.htm\">���� � ����� �����</a></li><li><a href=\"/test86.htm\">����� �����</a></li></ul><h4><a class=\"cl5\" href=\"/rubr8.htm\">��������</a> <sup style=\"color:#000\">8</sup></h4><ul class=\"list\"><li><a href=\"/test96.htm\">��������� �� ���� �����?</a></li><li><a href=\"/test98.htm\">� ������� �� � ��� �����?</a></li><li><a href=\"/test145.htm\">����� ����� ��� ��������</a></li><li><a href=\"/test97.htm\">������� �� �� �������?</a></li><li><a href=\"/test267.htm\">��������� �� ��� ���������?</a></li></ul><h4><a class=\"cl5\" href=\"/rubr9.htm\">���� �������</a> <sup style=\"color:#000\">22</sup></h4><ul class=\"list\"><li><a href=\"/test254.htm\">���� �� ��������</a></li><li><a href=\"/test126.htm\">��� �� �� ������?</a></li><li><a href=\"/test134.htm\">����� ��� ��� ���?</a></li><li><a href=\"/test122.htm\">�����������, �� ���������� ��� ���������?</a></li><li><a href=\"/test139.htm\">��� �����</a></li></ul><h4><a class=\"cl5\" href=\"/rubr10.htm\">����� �� ���������</a> <sup style=\"color:#000\">8</sup></h4><ul class=\"list\"><li><a href=\"/test237.htm\">���� �� ������ �������� �����</a></li><li><a href=\"/test289.htm\">���� �� IQ ������� � ��������� � ��� �����������</a></li><li><a href=\"/test270.htm\">���� �� ��������</a></li><li><a href=\"/test252.htm\">���� �� ������ ������ ����</a></li><li><a href=\"/test266.htm\">���� �� ������ �������222</a></li></ul></div></div>\n",
       "</div>\n",
       "<div id=\"dirs\"><div class=\"bborder normb\">\n",
       "<form action=\"/cgi-bin/testall.pl\" method=\"post\" name=\"log\">\n",
       "<table bgcolor=\"#FFFFFF\" borer=\"0\" cellpadding=\"0\" cellspacing=\"0\" width=\"100%\">\n",
       "<tr><td><table bgcolor=\"#FFFFFF\" border=\"0\" cellpadding=\"0\" cellspacing=\"8\" width=\"100%\"><tr>\n",
       "<td width=\"40%\">�����:</td><td width=\"60%\"><input class=\"INPUT\" name=\"login\" size=\"15\" style=\"width:93%\"/></td>\n",
       "</tr><tr>\n",
       "<td width=\"40%\">������:</td><td width=\"60%\"><input class=\"INPUT\" name=\"passwd\" size=\"15\" style=\"width:93%\" type=\"text\"/></td>\n",
       "</tr><tr><td width=\"40%\"> </td><td width=\"60%\">\n",
       "<input name=\"cmd\" type=\"hidden\" value=\"in\"/>\n",
       "<input class=\"form\" type=\"submit\" value=\"  �����   \"/>\n",
       "</td></tr></table>\n",
       "     <a href=\"/cgi-bin/testall.pl?cmd=reg\" style=\"font-size:1.35em\">�����������</a><br/><img height=\"5\" width=\"1\"/><br/>\n",
       "</td></tr>\n",
       "</table>\n",
       "</form></div><br/><div class=\"tb\"><ul><li><a class=\"cl1\" href=\"/rubr1.htm\">��� �������</a></li><li><a class=\"cl2\" href=\"/rubr2.htm\">����� ��� �������</a></li><li><a class=\"cl3\" href=\"/rubr3.htm\">����� ��� ������</a></li><li><a class=\"cl4\" href=\"/rubr4.htm\">������� �����</a></li><li><a class=\"cl0\" href=\"/rubr5.htm\">��������</a></li><li><a class=\"cl1\" href=\"/rubr6.htm\">�����������</a></li><li><a class=\"cl2\" href=\"/rubr7.htm\">��������</a></li><li><a class=\"cl3\" href=\"/rubr8.htm\">��������</a></li><li><a class=\"cl4\" href=\"/rubr9.htm\">���� �������</a></li><li><a class=\"cl0\" href=\"/rubr10.htm\">����� �� ���������</a></li></ul></div></div>\n",
       "<div id=\"right\"><!--noindex--><div class=\"menu\" style=\"text-align:center\"><a class=\"fav cl5\" href=\"http://testi.ru\" id=\"addFavorite\" onclick=\"return add_favorite(this);\">��������� �����</a></div><br/><!--/noindex--><!--noindex--><div align=\"right\"></div><!--/noindex--></div>\n",
       "<br/>\n",
       "<div class=\"down\"><br/><hr/>\n",
       "<div align=\"right\" class=\"offadv\"><a href=\"/cgi-bin/testall.pl?cmd=reg\"><b>��������� ������� / ������� [x]</b></a></div>\n",
       "<!--noindex--><script type=\"text/javascript\">document.write(String.fromCharCode(60)+\"a href='ht\"+\"tp://ww\"+\"w.liveinternet.\"+\"ru/click' tar\"+\"get=_bla\"+\"nk>\"+String.fromCharCode(60)+\"im\"+\"g s\"+\"rc='//counter.\"+\"yadro.\"+\"ru/hit?t18.6;r\" + escape(document.referrer) + ((typeof(screen)==\"undefined\")?\"\":\";s\"+screen.width+\"*\"+screen.height+\"*\"+(screen.colorDepth?screen.colorDepth:screen.pixelDepth)) + \";u\" + escape(document.URL) + \";\" + Math.random() + \"' border=0 width=88 height=31>\"+String.fromCharCode(60)+\"\\/a> &nbsp; <a href=\\\"http://top100.rambler.ru/top100/\\\"><img src=\\\"http://top100-images.rambler.ru/top100/banner-88x31-rambler-gray2.gif\\\" width=88 height=31 border=0></a>\")</script>\n",
       "<script src=\"/script.js\" type=\"text/javascript\"></script>\n",
       "<script src=\"//yandex.st/share/share.js\" type=\"text/javascript\"></script>\n",
       "<!--/noindex-->\n",
       "</div>\n",
       "<div style=\"font-size:0.8em;\"><a href=\"/linki/\">����� ��������</a> ⋅ ����������� ���������� <a href=\"http://pozdravok.ru/pozdravleniya/den-rozhdeniya/podruge/prikolnye/\">���������� ������������ ������� �� ���� ��������</a> � <a href=\"http://pozdravok.ru/pozdravleniya/den-rozhdeniya/prikolnye/\">���������� ������������ � ���� ��������</a> <i style=\"font-size:80%\">|9</i><div class=\"title\" xmlns:v=\"http://rdf.data-vocabulary.org/#\"><span typeof=\"v:Breadcrumb\"><b>�����</b></span></div></div>\n",
       "</body></html>"
      ]
     },
     "execution_count": 11,
     "metadata": {},
     "output_type": "execute_result"
    }
   ],
   "source": [
    "test_soup\n"
   ]
  },
  {
   "cell_type": "code",
   "execution_count": null,
   "metadata": {
    "collapsed": true
   },
   "outputs": [],
   "source": []
  }
 ],
 "metadata": {
  "kernelspec": {
   "display_name": "Python 3",
   "language": "python",
   "name": "python3"
  },
  "language_info": {
   "codemirror_mode": {
    "name": "ipython",
    "version": 3
   },
   "file_extension": ".py",
   "mimetype": "text/x-python",
   "name": "python",
   "nbconvert_exporter": "python",
   "pygments_lexer": "ipython3",
   "version": "3.6.1"
  }
 },
 "nbformat": 4,
 "nbformat_minor": 1
}
